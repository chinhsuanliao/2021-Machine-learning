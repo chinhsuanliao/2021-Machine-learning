{
  "cells": [
    {
      "cell_type": "code",
      "execution_count": 3,
      "metadata": {
        "colab": {
          "resources": {
            "http://localhost:8080/nbextensions/google.colab/files.js": {
              "data": "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",
              "ok": true,
              "headers": [
                [
                  "content-type",
                  "application/javascript"
                ]
              ],
              "status": 200,
              "status_text": ""
            }
          },
          "base_uri": "https://localhost:8080/",
          "height": 76
        },
        "id": "VPQq6lSHFinY",
        "outputId": "f0c46921-791a-44a3-a2fb-30b34432bf23"
      },
      "outputs": [
        {
          "output_type": "display_data",
          "data": {
            "text/html": [
              "\n",
              "     <input type=\"file\" id=\"files-60b0f7ce-ad61-4cf1-baf4-b20b93ebb773\" name=\"files[]\" multiple disabled\n",
              "        style=\"border:none\" />\n",
              "     <output id=\"result-60b0f7ce-ad61-4cf1-baf4-b20b93ebb773\">\n",
              "      Upload widget is only available when the cell has been executed in the\n",
              "      current browser session. Please rerun this cell to enable.\n",
              "      </output>\n",
              "      <script src=\"/nbextensions/google.colab/files.js\"></script> "
            ],
            "text/plain": [
              "<IPython.core.display.HTML object>"
            ]
          },
          "metadata": {}
        },
        {
          "output_type": "stream",
          "name": "stdout",
          "text": [
            "Saving stock.csv to stock (1).csv\n"
          ]
        }
      ],
      "source": [
        "import pandas as pd\n",
        "import numpy as np\n",
        "import matplotlib.pyplot as plt\n",
        "from google.colab import files\n",
        "# 上傳csv檔案,在run此code前請先幫我載入助教提供的csv檔案(stock.csv)\n",
        "uploaded = files.upload()\n"
      ]
    },
    {
      "cell_type": "code",
      "source": [
        "import io\n",
        "import pandas as pd\n",
        "data_df = pd.read_csv(io.BytesIO(uploaded['stock.csv']))\n",
        "data_df"
      ],
      "metadata": {
        "colab": {
          "base_uri": "https://localhost:8080/",
          "height": 423
        },
        "id": "S92yL_i9GCHc",
        "outputId": "ec4353cc-987b-4289-8e0d-a85e3ef3937f"
      },
      "execution_count": 5,
      "outputs": [
        {
          "output_type": "execute_result",
          "data": {
            "text/html": [
              "<div>\n",
              "<style scoped>\n",
              "    .dataframe tbody tr th:only-of-type {\n",
              "        vertical-align: middle;\n",
              "    }\n",
              "\n",
              "    .dataframe tbody tr th {\n",
              "        vertical-align: top;\n",
              "    }\n",
              "\n",
              "    .dataframe thead th {\n",
              "        text-align: right;\n",
              "    }\n",
              "</style>\n",
              "<table border=\"1\" class=\"dataframe\">\n",
              "  <thead>\n",
              "    <tr style=\"text-align: right;\">\n",
              "      <th></th>\n",
              "      <th>date</th>\n",
              "      <th>open</th>\n",
              "    </tr>\n",
              "  </thead>\n",
              "  <tbody>\n",
              "    <tr>\n",
              "      <th>0</th>\n",
              "      <td>2013/2/8</td>\n",
              "      <td>15.07</td>\n",
              "    </tr>\n",
              "    <tr>\n",
              "      <th>1</th>\n",
              "      <td>2013/2/11</td>\n",
              "      <td>14.89</td>\n",
              "    </tr>\n",
              "    <tr>\n",
              "      <th>2</th>\n",
              "      <td>2013/2/12</td>\n",
              "      <td>14.45</td>\n",
              "    </tr>\n",
              "    <tr>\n",
              "      <th>3</th>\n",
              "      <td>2013/2/13</td>\n",
              "      <td>14.30</td>\n",
              "    </tr>\n",
              "    <tr>\n",
              "      <th>4</th>\n",
              "      <td>2013/2/14</td>\n",
              "      <td>14.94</td>\n",
              "    </tr>\n",
              "    <tr>\n",
              "      <th>...</th>\n",
              "      <td>...</td>\n",
              "      <td>...</td>\n",
              "    </tr>\n",
              "    <tr>\n",
              "      <th>1254</th>\n",
              "      <td>2018/2/1</td>\n",
              "      <td>54.00</td>\n",
              "    </tr>\n",
              "    <tr>\n",
              "      <th>1255</th>\n",
              "      <td>2018/2/2</td>\n",
              "      <td>53.49</td>\n",
              "    </tr>\n",
              "    <tr>\n",
              "      <th>1256</th>\n",
              "      <td>2018/2/5</td>\n",
              "      <td>51.99</td>\n",
              "    </tr>\n",
              "    <tr>\n",
              "      <th>1257</th>\n",
              "      <td>2018/2/6</td>\n",
              "      <td>49.32</td>\n",
              "    </tr>\n",
              "    <tr>\n",
              "      <th>1258</th>\n",
              "      <td>2018/2/7</td>\n",
              "      <td>50.91</td>\n",
              "    </tr>\n",
              "  </tbody>\n",
              "</table>\n",
              "<p>1259 rows × 2 columns</p>\n",
              "</div>"
            ],
            "text/plain": [
              "           date   open\n",
              "0      2013/2/8  15.07\n",
              "1     2013/2/11  14.89\n",
              "2     2013/2/12  14.45\n",
              "3     2013/2/13  14.30\n",
              "4     2013/2/14  14.94\n",
              "...         ...    ...\n",
              "1254   2018/2/1  54.00\n",
              "1255   2018/2/2  53.49\n",
              "1256   2018/2/5  51.99\n",
              "1257   2018/2/6  49.32\n",
              "1258   2018/2/7  50.91\n",
              "\n",
              "[1259 rows x 2 columns]"
            ]
          },
          "metadata": {},
          "execution_count": 5
        }
      ]
    },
    {
      "cell_type": "code",
      "execution_count": 6,
      "metadata": {
        "colab": {
          "base_uri": "https://localhost:8080/",
          "height": 296
        },
        "id": "kNmMQ29hFinc",
        "outputId": "1a27fd31-76be-4492-9bd5-90fecb5d8c65"
      },
      "outputs": [
        {
          "output_type": "execute_result",
          "data": {
            "text/plain": [
              "Text(0, 0.5, 'Price')"
            ]
          },
          "metadata": {},
          "execution_count": 6
        },
        {
          "output_type": "display_data",
          "data": {
            "image/png": "[encoded data removed]",
            "text/plain": [
              "<Figure size 432x288 with 1 Axes>"
            ]
          },
          "metadata": {
            "needs_background": "light"
          }
        }
      ],
      "source": [
        "data_df['open'].plot()\n",
        "plt.xlabel('Date')\n",
        "plt.ylabel('Price')"
      ]
    },
    {
      "cell_type": "code",
      "execution_count": 7,
      "metadata": {
        "id": "fin8bVrLFind"
      },
      "outputs": [],
      "source": [
        "#利用MinMaxScaler 最小最大值標準化\n",
        "from sklearn.preprocessing import MinMaxScaler\n",
        "data_rehsape = data_df['open'].values.reshape(-1,1).astype('float32')\n",
        "sc = MinMaxScaler(feature_range = (0, 1))\n",
        "training_set_scaled = sc.fit_transform(data_rehsape)"
      ]
    },
    {
      "cell_type": "code",
      "execution_count": 8,
      "metadata": {
        "id": "1U10lN7zFine"
      },
      "outputs": [],
      "source": [
        "#基於前三天的資料來預測下一天\n",
        "look_back = 3\n",
        "train_size = 250\n",
        "#劃分成訓練與測試資料集\n",
        "train, test = training_set_scaled[:-train_size], training_set_scaled[-train_size-look_back:] "
      ]
    },
    {
      "cell_type": "code",
      "execution_count": 9,
      "metadata": {
        "colab": {
          "base_uri": "https://localhost:8080/"
        },
        "id": "sHHbOkA5Fine",
        "outputId": "ca7a350d-664e-462d-fc32-3c82731d40c7"
      },
      "outputs": [
        {
          "output_type": "stream",
          "name": "stdout",
          "text": [
            "train shape: (1009, 1)\n",
            "test shape: (253, 1)\n"
          ]
        },
        {
          "output_type": "execute_result",
          "data": {
            "text/plain": [
              "0.6994523"
            ]
          },
          "metadata": {},
          "execution_count": 9
        }
      ],
      "source": [
        "print('train shape:', train.shape)\n",
        "print('test shape:', test.shape)\n",
        "train[1008][0]"
      ]
    },
    {
      "cell_type": "code",
      "source": [
        "def create_dataset(dataset, look_back):\n",
        "    dataX, dataY = [], []\n",
        "    for i in range(dataset.shape[0]-look_back):\n",
        "        a = dataset[i:(i+look_back), 0]\n",
        "        dataX.append(a)\n",
        "        dataY.append(dataset[i + look_back-1, 0])\n",
        "    return np.array(dataX), np.array(dataY)"
      ],
      "metadata": {
        "id": "79tk1FHshHkL"
      },
      "execution_count": 10,
      "outputs": []
    },
    {
      "cell_type": "code",
      "source": [
        "#生成新樣本\n",
        "trainX, trainY = create_dataset(train, look_back)\n",
        "testX, testY = create_dataset(test, look_back)\n",
        "print('trainX:',trainX.shape)\n",
        "print('trainY:',trainY.shape)\n"
      ],
      "metadata": {
        "colab": {
          "base_uri": "https://localhost:8080/"
        },
        "id": "UHhYPzyygZoZ",
        "outputId": "8335ac3e-7cc9-4f01-fc21-ba2c30ad47d7"
      },
      "execution_count": 11,
      "outputs": [
        {
          "output_type": "stream",
          "name": "stdout",
          "text": [
            "trainX: (1006, 3)\n",
            "trainY: (1006,)\n"
          ]
        }
      ]
    },
    {
      "cell_type": "code",
      "source": [
        "#放入LSTM的shape\n",
        "trainX = np.reshape(trainX, (trainX.shape[0], trainX.shape[1], 1))\n",
        "testX = np.reshape(testX, (testX.shape[0], testX.shape[1], 1))\n",
        "print('trainX.shape:',trainX.shape)\n",
        "print('testX.shape:',testX.shape)"
      ],
      "metadata": {
        "colab": {
          "base_uri": "https://localhost:8080/"
        },
        "id": "rfa-WCXDhetg",
        "outputId": "8b73267d-79f4-44bd-f243-b340988937c0"
      },
      "execution_count": 12,
      "outputs": [
        {
          "output_type": "stream",
          "name": "stdout",
          "text": [
            "trainX.shape: (1006, 3, 1)\n",
            "testX.shape: (250, 3, 1)\n"
          ]
        }
      ]
    },
    {
      "cell_type": "code",
      "source": [
        "trainY = np.reshape(trainY,(trainY.shape[0], 1))\n",
        "testY = np.reshape(testY,(testY.shape[0], 1))\n",
        "print('trainY.shape:',trainY.shape)\n",
        "print('testY.shape:',testY.shape)\n"
      ],
      "metadata": {
        "colab": {
          "base_uri": "https://localhost:8080/"
        },
        "id": "PDUJl6Kxloup",
        "outputId": "d2b57f86-77c4-4ef2-c2a3-3b915d628f18"
      },
      "execution_count": 13,
      "outputs": [
        {
          "output_type": "stream",
          "name": "stdout",
          "text": [
            "trainY.shape: (1006, 1)\n",
            "testY.shape: (250, 1)\n"
          ]
        }
      ]
    },
    {
      "cell_type": "code",
      "execution_count": 14,
      "metadata": {
        "colab": {
          "base_uri": "https://localhost:8080/",
          "height": 296
        },
        "id": "fH6GdnIyFinf",
        "outputId": "633b6ec7-0419-4aaa-862d-af9ff342be4b"
      },
      "outputs": [
        {
          "output_type": "execute_result",
          "data": {
            "text/plain": [
              "Text(0, 0.5, 'Price')"
            ]
          },
          "metadata": {},
          "execution_count": 14
        },
        {
          "output_type": "display_data",
          "data": {
            "image/png": "[encoded data removed]",
            "text/plain": [
              "<Figure size 432x288 with 1 Axes>"
            ]
          },
          "metadata": {
            "needs_background": "light"
          }
        }
      ],
      "source": [
        "len_train = np.linspace(0, train.shape[0],train.shape[0]+1)\n",
        "plt.plot(len_train[1:],sc.inverse_transform(train.reshape(-1,1)))\n",
        "#plt.plot(len_test[1:],sc.inverse_transform(y_hat))\n",
        "plt.xlabel('Date') # set a xlabel\n",
        "plt.ylabel('Price')"
      ]
    },
    {
      "cell_type": "code",
      "execution_count": 15,
      "metadata": {
        "scrolled": true,
        "colab": {
          "base_uri": "https://localhost:8080/",
          "height": 296
        },
        "id": "tiOD8aC3Finf",
        "outputId": "3dcf3f19-359b-42a1-9b95-fce3a48b001c"
      },
      "outputs": [
        {
          "output_type": "execute_result",
          "data": {
            "text/plain": [
              "Text(0, 0.5, 'Price')"
            ]
          },
          "metadata": {},
          "execution_count": 15
        },
        {
          "output_type": "display_data",
          "data": {
            "image/png": "[encoded data removed]",
            "text/plain": [
              "<Figure size 432x288 with 1 Axes>"
            ]
          },
          "metadata": {
            "needs_background": "light"
          }
        }
      ],
      "source": [
        "len_test = np.linspace(train.shape[0], test.shape[0]+train.shape[0],test.shape[0]+1)\n",
        "plt.plot(len_test[1:],sc.inverse_transform(test.reshape(-1,1)))\n",
        "#plt.plot(len_test[1:],sc.inverse_transform(y_hat))\n",
        "plt.xlabel('Date') # set a xlabel\n",
        "plt.ylabel('Price')"
      ]
    },
    {
      "cell_type": "markdown",
      "metadata": {
        "id": "m4Qol_NnFing"
      },
      "source": [
        "Hw:create a lstm model to predict stock price"
      ]
    },
    {
      "cell_type": "code",
      "execution_count": 16,
      "metadata": {
        "id": "TKd7UcOvFini"
      },
      "outputs": [],
      "source": [
        "import numpy\n",
        "import matplotlib.pyplot as plt\n",
        "import math\n",
        "from keras.models import Sequential\n",
        "from keras.layers import Dense\n",
        "from tensorflow.keras.layers import LSTM\n",
        "from sklearn.preprocessing import MinMaxScaler\n",
        "from sklearn.metrics import mean_squared_error"
      ]
    },
    {
      "cell_type": "code",
      "execution_count": 17,
      "metadata": {
        "id": "0B7t9uidFinj",
        "colab": {
          "base_uri": "https://localhost:8080/"
        },
        "outputId": "2e57c3a5-39ee-4725-c0e7-73ef2d4edee8"
      },
      "outputs": [
        {
          "output_type": "stream",
          "name": "stdout",
          "text": [
            "Model: \"sequential\"\n",
            "_________________________________________________________________\n",
            " Layer (type)                Output Shape              Param #   \n",
            "=================================================================\n",
            " lstm (LSTM)                 (None, 3)                 60        \n",
            "                                                                 \n",
            " dense (Dense)               (None, 1)                 4         \n",
            "                                                                 \n",
            "=================================================================\n",
            "Total params: 64\n",
            "Trainable params: 64\n",
            "Non-trainable params: 0\n",
            "_________________________________________________________________\n"
          ]
        }
      ],
      "source": [
        "# 建立及訓練 LSTM 模型\n",
        "model = Sequential()\n",
        "model.add(LSTM(3, input_shape=(look_back,1)))\n",
        "model.add(Dense(1))\n",
        "model.compile(optimizer = 'adam', loss = 'mean_squared_error')\n",
        "model.summary()\n"
      ]
    },
    {
      "cell_type": "code",
      "source": [
        "#Fit model with history to check for overfitting\n",
        "history = model.fit(trainX,trainY,epochs=100,validation_data=(testX,testY),shuffle=False,batch_size=5)"
      ],
      "metadata": {
        "id": "-f69TeNcZqfe",
        "colab": {
          "base_uri": "https://localhost:8080/"
        },
        "outputId": "136d966e-0d76-4a1a-a2b2-6601c73b92e7"
      },
      "execution_count": 36,
      "outputs": [
        {
          "output_type": "stream",
          "name": "stdout",
          "text": [
            "Epoch 1/100\n",
            "202/202 [==============================] - 1s 6ms/step - loss: 7.2181e-05 - val_loss: 1.1464e-04\n",
            "Epoch 2/100\n",
            "202/202 [==============================] - 1s 3ms/step - loss: 3.1347e-05 - val_loss: 7.3687e-05\n",
            "Epoch 3/100\n",
            "202/202 [==============================] - 1s 4ms/step - loss: 3.3198e-05 - val_loss: 5.9120e-05\n",
            "Epoch 4/100\n",
            "202/202 [==============================] - 1s 3ms/step - loss: 3.0012e-05 - val_loss: 5.0964e-05\n",
            "Epoch 5/100\n",
            "202/202 [==============================] - 1s 4ms/step - loss: 2.4634e-05 - val_loss: 4.5117e-05\n",
            "Epoch 6/100\n",
            "202/202 [==============================] - 1s 3ms/step - loss: 2.0472e-05 - val_loss: 4.0826e-05\n",
            "Epoch 7/100\n",
            "202/202 [==============================] - 1s 3ms/step - loss: 1.7634e-05 - val_loss: 3.7684e-05\n",
            "Epoch 8/100\n",
            "202/202 [==============================] - 1s 4ms/step - loss: 1.5869e-05 - val_loss: 3.5353e-05\n",
            "Epoch 9/100\n",
            "202/202 [==============================] - 1s 3ms/step - loss: 1.4901e-05 - val_loss: 3.3554e-05\n",
            "Epoch 10/100\n",
            "202/202 [==============================] - 1s 4ms/step - loss: 1.4468e-05 - val_loss: 3.2079e-05\n",
            "Epoch 11/100\n",
            "202/202 [==============================] - 1s 4ms/step - loss: 1.4331e-05 - val_loss: 3.0769e-05\n",
            "Epoch 12/100\n",
            "202/202 [==============================] - 1s 3ms/step - loss: 1.4290e-05 - val_loss: 2.9518e-05\n",
            "Epoch 13/100\n",
            "202/202 [==============================] - 1s 4ms/step - loss: 1.4210e-05 - val_loss: 2.8265e-05\n",
            "Epoch 14/100\n",
            "202/202 [==============================] - 1s 3ms/step - loss: 1.4024e-05 - val_loss: 2.6984e-05\n",
            "Epoch 15/100\n",
            "202/202 [==============================] - 1s 3ms/step - loss: 1.3726e-05 - val_loss: 2.5679e-05\n",
            "Epoch 16/100\n",
            "202/202 [==============================] - 1s 3ms/step - loss: 1.3339e-05 - val_loss: 2.4369e-05\n",
            "Epoch 17/100\n",
            "202/202 [==============================] - 1s 3ms/step - loss: 1.2904e-05 - val_loss: 2.3090e-05\n",
            "Epoch 18/100\n",
            "202/202 [==============================] - 1s 3ms/step - loss: 1.2469e-05 - val_loss: 2.1895e-05\n",
            "Epoch 19/100\n",
            "202/202 [==============================] - 1s 4ms/step - loss: 1.2083e-05 - val_loss: 2.0855e-05\n",
            "Epoch 20/100\n",
            "202/202 [==============================] - 1s 3ms/step - loss: 1.1799e-05 - val_loss: 2.0055e-05\n",
            "Epoch 21/100\n",
            "202/202 [==============================] - 1s 3ms/step - loss: 1.1676e-05 - val_loss: 1.9584e-05\n",
            "Epoch 22/100\n",
            "202/202 [==============================] - 1s 3ms/step - loss: 1.1773e-05 - val_loss: 1.9504e-05\n",
            "Epoch 23/100\n",
            "202/202 [==============================] - 1s 3ms/step - loss: 1.2140e-05 - val_loss: 1.9796e-05\n",
            "Epoch 24/100\n",
            "202/202 [==============================] - 1s 4ms/step - loss: 1.2789e-05 - val_loss: 2.0298e-05\n",
            "Epoch 25/100\n",
            "202/202 [==============================] - 1s 3ms/step - loss: 1.3630e-05 - val_loss: 2.0702e-05\n",
            "Epoch 26/100\n",
            "202/202 [==============================] - 1s 3ms/step - loss: 1.4429e-05 - val_loss: 2.0717e-05\n",
            "Epoch 27/100\n",
            "202/202 [==============================] - 1s 3ms/step - loss: 1.4864e-05 - val_loss: 2.0285e-05\n",
            "Epoch 28/100\n",
            "202/202 [==============================] - 1s 4ms/step - loss: 1.4737e-05 - val_loss: 1.9584e-05\n",
            "Epoch 29/100\n",
            "202/202 [==============================] - 1s 3ms/step - loss: 1.4135e-05 - val_loss: 1.8849e-05\n",
            "Epoch 30/100\n",
            "202/202 [==============================] - 1s 3ms/step - loss: 1.3354e-05 - val_loss: 1.8268e-05\n",
            "Epoch 31/100\n",
            "202/202 [==============================] - 1s 4ms/step - loss: 1.2693e-05 - val_loss: 1.7959e-05\n",
            "Epoch 32/100\n",
            "202/202 [==============================] - 1s 3ms/step - loss: 1.2326e-05 - val_loss: 1.7970e-05\n",
            "Epoch 33/100\n",
            "202/202 [==============================] - 1s 4ms/step - loss: 1.2313e-05 - val_loss: 1.8261e-05\n",
            "Epoch 34/100\n",
            "202/202 [==============================] - 1s 3ms/step - loss: 1.2624e-05 - val_loss: 1.8679e-05\n",
            "Epoch 35/100\n",
            "202/202 [==============================] - 1s 4ms/step - loss: 1.3139e-05 - val_loss: 1.8988e-05\n",
            "Epoch 36/100\n",
            "202/202 [==============================] - 1s 4ms/step - loss: 1.3645e-05 - val_loss: 1.8996e-05\n",
            "Epoch 37/100\n",
            "202/202 [==============================] - 1s 3ms/step - loss: 1.3896e-05 - val_loss: 1.8688e-05\n",
            "Epoch 38/100\n",
            "202/202 [==============================] - 1s 4ms/step - loss: 1.3754e-05 - val_loss: 1.8207e-05\n",
            "Epoch 39/100\n",
            "202/202 [==============================] - 1s 3ms/step - loss: 1.3293e-05 - val_loss: 1.7740e-05\n",
            "Epoch 40/100\n",
            "202/202 [==============================] - 1s 4ms/step - loss: 1.2736e-05 - val_loss: 1.7427e-05\n",
            "Epoch 41/100\n",
            "202/202 [==============================] - 1s 4ms/step - loss: 1.2306e-05 - val_loss: 1.7337e-05\n",
            "Epoch 42/100\n",
            "202/202 [==============================] - 1s 4ms/step - loss: 1.2135e-05 - val_loss: 1.7459e-05\n",
            "Epoch 43/100\n",
            "202/202 [==============================] - 1s 3ms/step - loss: 1.2238e-05 - val_loss: 1.7694e-05\n",
            "Epoch 44/100\n",
            "202/202 [==============================] - 1s 4ms/step - loss: 1.2538e-05 - val_loss: 1.7887e-05\n",
            "Epoch 45/100\n",
            "202/202 [==============================] - 1s 3ms/step - loss: 1.2879e-05 - val_loss: 1.7900e-05\n",
            "Epoch 46/100\n",
            "202/202 [==============================] - 1s 3ms/step - loss: 1.3077e-05 - val_loss: 1.7698e-05\n",
            "Epoch 47/100\n",
            "202/202 [==============================] - 1s 4ms/step - loss: 1.3019e-05 - val_loss: 1.7366e-05\n",
            "Epoch 48/100\n",
            "202/202 [==============================] - 1s 3ms/step - loss: 1.2729e-05 - val_loss: 1.7028e-05\n",
            "Epoch 49/100\n",
            "202/202 [==============================] - 1s 4ms/step - loss: 1.2351e-05 - val_loss: 1.6794e-05\n",
            "Epoch 50/100\n",
            "202/202 [==============================] - 1s 3ms/step - loss: 1.2051e-05 - val_loss: 1.6713e-05\n",
            "Epoch 51/100\n",
            "202/202 [==============================] - 1s 4ms/step - loss: 1.1932e-05 - val_loss: 1.6770e-05\n",
            "Epoch 52/100\n",
            "202/202 [==============================] - 1s 3ms/step - loss: 1.2009e-05 - val_loss: 1.6888e-05\n",
            "Epoch 53/100\n",
            "202/202 [==============================] - 1s 3ms/step - loss: 1.2214e-05 - val_loss: 1.6959e-05\n",
            "Epoch 54/100\n",
            "202/202 [==============================] - 1s 3ms/step - loss: 1.2428e-05 - val_loss: 1.6904e-05\n",
            "Epoch 55/100\n",
            "202/202 [==============================] - 1s 4ms/step - loss: 1.2524e-05 - val_loss: 1.6717e-05\n",
            "Epoch 56/100\n",
            "202/202 [==============================] - 1s 4ms/step - loss: 1.2442e-05 - val_loss: 1.6461e-05\n",
            "Epoch 57/100\n",
            "202/202 [==============================] - 1s 3ms/step - loss: 1.2222e-05 - val_loss: 1.6223e-05\n",
            "Epoch 58/100\n",
            "202/202 [==============================] - 1s 4ms/step - loss: 1.1971e-05 - val_loss: 1.6067e-05\n",
            "Epoch 59/100\n",
            "202/202 [==============================] - 1s 4ms/step - loss: 1.1798e-05 - val_loss: 1.6017e-05\n",
            "Epoch 60/100\n",
            "202/202 [==============================] - 1s 4ms/step - loss: 1.1763e-05 - val_loss: 1.6043e-05\n",
            "Epoch 61/100\n",
            "202/202 [==============================] - 1s 3ms/step - loss: 1.1854e-05 - val_loss: 1.6080e-05\n",
            "Epoch 62/100\n",
            "202/202 [==============================] - 1s 3ms/step - loss: 1.2003e-05 - val_loss: 1.6057e-05\n",
            "Epoch 63/100\n",
            "202/202 [==============================] - 1s 3ms/step - loss: 1.2116e-05 - val_loss: 1.5944e-05\n",
            "Epoch 64/100\n",
            "202/202 [==============================] - 1s 4ms/step - loss: 1.2122e-05 - val_loss: 1.5758e-05\n",
            "Epoch 65/100\n",
            "202/202 [==============================] - 1s 4ms/step - loss: 1.2009e-05 - val_loss: 1.5554e-05\n",
            "Epoch 66/100\n",
            "202/202 [==============================] - 1s 4ms/step - loss: 1.1835e-05 - val_loss: 1.5388e-05\n",
            "Epoch 67/100\n",
            "202/202 [==============================] - 1s 4ms/step - loss: 1.1681e-05 - val_loss: 1.5291e-05\n",
            "Epoch 68/100\n",
            "202/202 [==============================] - 1s 3ms/step - loss: 1.1611e-05 - val_loss: 1.5258e-05\n",
            "Epoch 69/100\n",
            "202/202 [==============================] - 1s 3ms/step - loss: 1.1640e-05 - val_loss: 1.5249e-05\n",
            "Epoch 70/100\n",
            "202/202 [==============================] - 1s 4ms/step - loss: 1.1732e-05 - val_loss: 1.5217e-05\n",
            "Epoch 71/100\n",
            "202/202 [==============================] - 1s 4ms/step - loss: 1.1823e-05 - val_loss: 1.5127e-05\n",
            "Epoch 72/100\n",
            "202/202 [==============================] - 1s 4ms/step - loss: 1.1851e-05 - val_loss: 1.4981e-05\n",
            "Epoch 73/100\n",
            "202/202 [==============================] - 1s 3ms/step - loss: 1.1793e-05 - val_loss: 1.4810e-05\n",
            "Epoch 74/100\n",
            "202/202 [==============================] - 1s 4ms/step - loss: 1.1676e-05 - val_loss: 1.4655e-05\n",
            "Epoch 75/100\n",
            "202/202 [==============================] - 1s 4ms/step - loss: 1.1556e-05 - val_loss: 1.4543e-05\n",
            "Epoch 76/100\n",
            "202/202 [==============================] - 1s 4ms/step - loss: 1.1487e-05 - val_loss: 1.4478e-05\n",
            "Epoch 77/100\n",
            "202/202 [==============================] - 1s 3ms/step - loss: 1.1489e-05 - val_loss: 1.4438e-05\n",
            "Epoch 78/100\n",
            "202/202 [==============================] - 1s 3ms/step - loss: 1.1546e-05 - val_loss: 1.4388e-05\n",
            "Epoch 79/100\n",
            "202/202 [==============================] - 1s 3ms/step - loss: 1.1612e-05 - val_loss: 1.4302e-05\n",
            "Epoch 80/100\n",
            "202/202 [==============================] - 1s 3ms/step - loss: 1.1638e-05 - val_loss: 1.4176e-05\n",
            "Epoch 81/100\n",
            "202/202 [==============================] - 1s 3ms/step - loss: 1.1603e-05 - val_loss: 1.4029e-05\n",
            "Epoch 82/100\n",
            "202/202 [==============================] - 1s 3ms/step - loss: 1.1520e-05 - val_loss: 1.3889e-05\n",
            "Epoch 83/100\n",
            "202/202 [==============================] - 1s 3ms/step - loss: 1.1430e-05 - val_loss: 1.3778e-05\n",
            "Epoch 84/100\n",
            "202/202 [==============================] - 1s 3ms/step - loss: 1.1373e-05 - val_loss: 1.3701e-05\n",
            "Epoch 85/100\n",
            "202/202 [==============================] - 1s 4ms/step - loss: 1.1369e-05 - val_loss: 1.3643e-05\n",
            "Epoch 86/100\n",
            "202/202 [==============================] - 1s 4ms/step - loss: 1.1406e-05 - val_loss: 1.3580e-05\n",
            "Epoch 87/100\n",
            "202/202 [==============================] - 1s 3ms/step - loss: 1.1451e-05 - val_loss: 1.3493e-05\n",
            "Epoch 88/100\n",
            "202/202 [==============================] - 1s 3ms/step - loss: 1.1469e-05 - val_loss: 1.3379e-05\n",
            "Epoch 89/100\n",
            "202/202 [==============================] - 1s 4ms/step - loss: 1.1442e-05 - val_loss: 1.3250e-05\n",
            "Epoch 90/100\n",
            "202/202 [==============================] - 1s 3ms/step - loss: 1.1380e-05 - val_loss: 1.3126e-05\n",
            "Epoch 91/100\n",
            "202/202 [==============================] - 1s 4ms/step - loss: 1.1313e-05 - val_loss: 1.3023e-05\n",
            "Epoch 92/100\n",
            "202/202 [==============================] - 1s 3ms/step - loss: 1.1271e-05 - val_loss: 1.2944e-05\n",
            "Epoch 93/100\n",
            "202/202 [==============================] - 1s 3ms/step - loss: 1.1267e-05 - val_loss: 1.2878e-05\n",
            "Epoch 94/100\n",
            "202/202 [==============================] - 1s 4ms/step - loss: 1.1293e-05 - val_loss: 1.2809e-05\n",
            "Epoch 95/100\n",
            "202/202 [==============================] - 1s 4ms/step - loss: 1.1323e-05 - val_loss: 1.2723e-05\n",
            "Epoch 96/100\n",
            "202/202 [==============================] - 1s 3ms/step - loss: 1.1333e-05 - val_loss: 1.2620e-05\n",
            "Epoch 97/100\n",
            "202/202 [==============================] - 1s 4ms/step - loss: 1.1309e-05 - val_loss: 1.2506e-05\n",
            "Epoch 98/100\n",
            "202/202 [==============================] - 1s 3ms/step - loss: 1.1260e-05 - val_loss: 1.2397e-05\n",
            "Epoch 99/100\n",
            "202/202 [==============================] - 1s 4ms/step - loss: 1.1209e-05 - val_loss: 1.2305e-05\n",
            "Epoch 100/100\n",
            "202/202 [==============================] - 1s 3ms/step - loss: 1.1179e-05 - val_loss: 1.2230e-05\n"
          ]
        }
      ]
    },
    {
      "cell_type": "code",
      "source": [
        "# save model\n",
        "model.save_weights(\"model.hdf5\")\n"
      ],
      "metadata": {
        "id": "CgcG-G3FkaqW"
      },
      "execution_count": 37,
      "outputs": []
    },
    {
      "cell_type": "code",
      "source": [
        "#plot training process\n",
        "fig = plt.figure(figsize=(10,6))\n",
        "plt.plot(history.history['loss'], color='#785ef0')\n",
        "plt.plot(history.history['val_loss'], color='#dc267f')\n",
        "plt.title('Model Loss Progress')\n",
        "plt.ylabel('Brinary Cross-Entropy Loss')\n",
        "plt.xlabel('Epoch')\n",
        "plt.legend(['Training Set', 'Test Set'], loc='upper right')\n",
        "plt.show()"
      ],
      "metadata": {
        "colab": {
          "base_uri": "https://localhost:8080/",
          "height": 404
        },
        "id": "vA6aJGufrBtF",
        "outputId": "4241aa89-b7e0-44b1-c30c-ab723dab2e6c"
      },
      "execution_count": 38,
      "outputs": [
        {
          "output_type": "display_data",
          "data": {
            "image/png": "[encoded data removed]",
            "text/plain": [
              "<Figure size 720x432 with 1 Axes>"
            ]
          },
          "metadata": {
            "needs_background": "light"
          }
        }
      ]
    },
    {
      "cell_type": "code",
      "source": [
        "model.evaluate(testX,testY)"
      ],
      "metadata": {
        "colab": {
          "base_uri": "https://localhost:8080/"
        },
        "id": "WuONAtxw8yNh",
        "outputId": "59d86dc8-97c0-4010-fd62-f7cb89e3efa0"
      },
      "execution_count": 42,
      "outputs": [
        {
          "output_type": "stream",
          "name": "stdout",
          "text": [
            "8/8 [==============================] - 0s 3ms/step - loss: 1.2230e-05\n"
          ]
        },
        {
          "output_type": "execute_result",
          "data": {
            "text/plain": [
              "1.2229897038196214e-05"
            ]
          },
          "metadata": {},
          "execution_count": 42
        }
      ]
    },
    {
      "cell_type": "code",
      "source": [
        "# 預測\n",
        "trainPredict = model.predict(trainX)\n",
        "testPredict = model.predict(testX)"
      ],
      "metadata": {
        "id": "C2NT-4Uut8Iv"
      },
      "execution_count": 47,
      "outputs": []
    },
    {
      "cell_type": "code",
      "source": [
        "testY = pd.DataFrame(testY)\n",
        "testY"
      ],
      "metadata": {
        "colab": {
          "base_uri": "https://localhost:8080/",
          "height": 423
        },
        "id": "axs0Fq5XuRPA",
        "outputId": "7743a418-7585-4f56-a86c-cc08b1fcf721"
      },
      "execution_count": 52,
      "outputs": [
        {
          "output_type": "execute_result",
          "data": {
            "text/html": [
              "<div>\n",
              "<style scoped>\n",
              "    .dataframe tbody tr th:only-of-type {\n",
              "        vertical-align: middle;\n",
              "    }\n",
              "\n",
              "    .dataframe tbody tr th {\n",
              "        vertical-align: top;\n",
              "    }\n",
              "\n",
              "    .dataframe thead th {\n",
              "        text-align: right;\n",
              "    }\n",
              "</style>\n",
              "<table border=\"1\" class=\"dataframe\">\n",
              "  <thead>\n",
              "    <tr style=\"text-align: right;\">\n",
              "      <th></th>\n",
              "      <th>0</th>\n",
              "    </tr>\n",
              "  </thead>\n",
              "  <tbody>\n",
              "    <tr>\n",
              "      <th>0</th>\n",
              "      <td>0.699452</td>\n",
              "    </tr>\n",
              "    <tr>\n",
              "      <th>1</th>\n",
              "      <td>0.733406</td>\n",
              "    </tr>\n",
              "    <tr>\n",
              "      <th>2</th>\n",
              "      <td>0.732092</td>\n",
              "    </tr>\n",
              "    <tr>\n",
              "      <th>3</th>\n",
              "      <td>0.747426</td>\n",
              "    </tr>\n",
              "    <tr>\n",
              "      <th>4</th>\n",
              "      <td>0.754655</td>\n",
              "    </tr>\n",
              "    <tr>\n",
              "      <th>...</th>\n",
              "      <td>...</td>\n",
              "    </tr>\n",
              "    <tr>\n",
              "      <th>245</th>\n",
              "      <td>0.874918</td>\n",
              "    </tr>\n",
              "    <tr>\n",
              "      <th>246</th>\n",
              "      <td>0.895071</td>\n",
              "    </tr>\n",
              "    <tr>\n",
              "      <th>247</th>\n",
              "      <td>0.883899</td>\n",
              "    </tr>\n",
              "    <tr>\n",
              "      <th>248</th>\n",
              "      <td>0.851040</td>\n",
              "    </tr>\n",
              "    <tr>\n",
              "      <th>249</th>\n",
              "      <td>0.792552</td>\n",
              "    </tr>\n",
              "  </tbody>\n",
              "</table>\n",
              "<p>250 rows × 1 columns</p>\n",
              "</div>"
            ],
            "text/plain": [
              "            0\n",
              "0    0.699452\n",
              "1    0.733406\n",
              "2    0.732092\n",
              "3    0.747426\n",
              "4    0.754655\n",
              "..        ...\n",
              "245  0.874918\n",
              "246  0.895071\n",
              "247  0.883899\n",
              "248  0.851040\n",
              "249  0.792552\n",
              "\n",
              "[250 rows x 1 columns]"
            ]
          },
          "metadata": {},
          "execution_count": 52
        }
      ]
    },
    {
      "cell_type": "code",
      "source": [
        "predictY = model.predict(testX)\n"
      ],
      "metadata": {
        "id": "T6h7533jHpV7"
      },
      "execution_count": 62,
      "outputs": []
    },
    {
      "cell_type": "code",
      "source": [
        "import matplotlib.pyplot as plt \n",
        "plt.plot(testY, color = 'red', label = 'Ground truth')  # 紅線表示真實股價\n",
        "plt.plot(predictY, color = 'blue', label = 'Predicted Price')  # 藍線表示預測股價\n",
        "plt.title('Price Prediction')\n",
        "plt.xlabel('Time')\n",
        "plt.ylabel('Stock Price')\n",
        "plt.legend()\n",
        "plt.show()"
      ],
      "metadata": {
        "colab": {
          "base_uri": "https://localhost:8080/",
          "height": 295
        },
        "id": "Vd73V0Mx9ZA0",
        "outputId": "7188ca7a-64bf-47d4-d63f-ca09467acdd1"
      },
      "execution_count": 63,
      "outputs": [
        {
          "output_type": "display_data",
          "data": {
            "image/png": "[encoded data removed]",
            "text/plain": [
              "<Figure size 432x288 with 1 Axes>"
            ]
          },
          "metadata": {
            "needs_background": "light"
          }
        }
      ]
    },
    {
      "cell_type": "code",
      "source": [
        "testY"
      ],
      "metadata": {
        "colab": {
          "base_uri": "https://localhost:8080/",
          "height": 423
        },
        "id": "lN5RAKniAoyL",
        "outputId": "bb7c6d75-3b45-4316-f453-674654df4df4"
      },
      "execution_count": 65,
      "outputs": [
        {
          "output_type": "execute_result",
          "data": {
            "text/html": [
              "<div>\n",
              "<style scoped>\n",
              "    .dataframe tbody tr th:only-of-type {\n",
              "        vertical-align: middle;\n",
              "    }\n",
              "\n",
              "    .dataframe tbody tr th {\n",
              "        vertical-align: top;\n",
              "    }\n",
              "\n",
              "    .dataframe thead th {\n",
              "        text-align: right;\n",
              "    }\n",
              "</style>\n",
              "<table border=\"1\" class=\"dataframe\">\n",
              "  <thead>\n",
              "    <tr style=\"text-align: right;\">\n",
              "      <th></th>\n",
              "      <th>0</th>\n",
              "    </tr>\n",
              "  </thead>\n",
              "  <tbody>\n",
              "    <tr>\n",
              "      <th>0</th>\n",
              "      <td>0.699452</td>\n",
              "    </tr>\n",
              "    <tr>\n",
              "      <th>1</th>\n",
              "      <td>0.733406</td>\n",
              "    </tr>\n",
              "    <tr>\n",
              "      <th>2</th>\n",
              "      <td>0.732092</td>\n",
              "    </tr>\n",
              "    <tr>\n",
              "      <th>3</th>\n",
              "      <td>0.747426</td>\n",
              "    </tr>\n",
              "    <tr>\n",
              "      <th>4</th>\n",
              "      <td>0.754655</td>\n",
              "    </tr>\n",
              "    <tr>\n",
              "      <th>...</th>\n",
              "      <td>...</td>\n",
              "    </tr>\n",
              "    <tr>\n",
              "      <th>245</th>\n",
              "      <td>0.874918</td>\n",
              "    </tr>\n",
              "    <tr>\n",
              "      <th>246</th>\n",
              "      <td>0.895071</td>\n",
              "    </tr>\n",
              "    <tr>\n",
              "      <th>247</th>\n",
              "      <td>0.883899</td>\n",
              "    </tr>\n",
              "    <tr>\n",
              "      <th>248</th>\n",
              "      <td>0.851040</td>\n",
              "    </tr>\n",
              "    <tr>\n",
              "      <th>249</th>\n",
              "      <td>0.792552</td>\n",
              "    </tr>\n",
              "  </tbody>\n",
              "</table>\n",
              "<p>250 rows × 1 columns</p>\n",
              "</div>"
            ],
            "text/plain": [
              "            0\n",
              "0    0.699452\n",
              "1    0.733406\n",
              "2    0.732092\n",
              "3    0.747426\n",
              "4    0.754655\n",
              "..        ...\n",
              "245  0.874918\n",
              "246  0.895071\n",
              "247  0.883899\n",
              "248  0.851040\n",
              "249  0.792552\n",
              "\n",
              "[250 rows x 1 columns]"
            ]
          },
          "metadata": {},
          "execution_count": 65
        }
      ]
    },
    {
      "cell_type": "code",
      "source": [
        "from keras.models import load_model\n",
        "\n",
        "model.save('model.h5') "
      ],
      "metadata": {
        "id": "YARP3wt9LfH3"
      },
      "execution_count": 68,
      "outputs": []
    },
    {
      "cell_type": "code",
      "source": [
        ""
      ],
      "metadata": {
        "id": "_vtEM3QjMRIj"
      },
      "execution_count": null,
      "outputs": []
    }
  ],
  "metadata": {
    "kernelspec": {
      "display_name": "Python 3",
      "language": "python",
      "name": "python3"
    },
    "language_info": {
      "codemirror_mode": {
        "name": "ipython",
        "version": 3
      },
      "file_extension": ".py",
      "mimetype": "text/x-python",
      "name": "python",
      "nbconvert_exporter": "python",
      "pygments_lexer": "ipython3",
      "version": "3.8.5"
    },
    "colab": {
      "name": "lstm_stock.ipynb",
      "provenance": []
    }
  },
  "nbformat": 4,
  "nbformat_minor": 0
}