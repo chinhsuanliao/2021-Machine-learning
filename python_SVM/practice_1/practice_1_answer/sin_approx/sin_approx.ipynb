{
 "cells": [
  {
   "cell_type": "markdown",
   "metadata": {},
   "source": [
    "(20%) Name your Jupyter notebook sin_approx and Python script sin_approx.py. Using a\n",
    "while loop to implement an approximation of sine function with polynomial:\n",
    "sin(𝑥) ≈ 𝑥 − 𝑥**3/3! + 𝑥**5/5!−𝑥**7/7!+ ⋯\n",
    "Compute the right-hand side for powers up to 𝑁 = 25. \n",
    "Below is a sample output:\n",
    "sin(1.6) approximation is 0.9995736030415051"
   ]
  },
  {
   "cell_type": "code",
   "execution_count": 38,
   "metadata": {},
   "outputs": [
    {
     "name": "stdout",
     "output_type": "stream",
     "text": [
      "0.9995736030415051\n"
     ]
    }
   ],
   "source": [
    "sum = 0\n",
    "m = 1.6\n",
    "i = 1   # 索引變數\n",
    "while i<= 25:\n",
    "    if i == 1 or i ==5 or i ==9 or i ==13 or i ==17 or i ==21 or i ==25:\n",
    "        sum +=  m ** i / factorial(i)\n",
    "    else:\n",
    "        sum += -(m ** i) / factorial(i)\n",
    "    i += 2   \n",
    "print(sum)"
   ]
  },
  {
   "cell_type": "markdown",
   "metadata": {},
   "source": [
    "(20%) Name your Jupyter notebook dna_seq and Python script dna_seq.py. A DNA sequence\n",
    "contains four base letters A, C, G, T. Genomes of different species vary with respect to the\n",
    "proportion of Gs and Cs in their DNA as opposed to Ts and As.\n",
    "Write a function gc_content that returns the GC content of a given DNA sequence represented\n",
    "as a string. Use the following simple script and sample outputs to test your function:"
   ]
  },
  {
   "cell_type": "code",
   "execution_count": null,
   "metadata": {},
   "outputs": [],
   "source": []
  },
  {
   "cell_type": "markdown",
   "metadata": {},
   "source": [
    "Bank of LAiMM wants to predict who are possible defaulters for the consumer loans product.\n",
    "They have data about historic customer behavior based on what they have observed. Hence when\n",
    "they acquire new customers, they want to predict who is riskier and who is not. You are required\n",
    "to use the training dataset to identify patterns that predict “potential” defaulters. Name your\n",
    "Jupyter notebook SVM and report SVM_report.docx."
   ]
  },
  {
   "cell_type": "markdown",
   "metadata": {},
   "source": [
    "(a) (20%) Plot the statics of training dataset. You may need to process training data before feeding\n",
    "them into model.\n",
    "This figure is an example, please plot the statistics of training data that are fed into the model."
   ]
  },
  {
   "cell_type": "code",
   "execution_count": null,
   "metadata": {},
   "outputs": [],
   "source": []
  },
  {
   "cell_type": "markdown",
   "metadata": {},
   "source": [
    "(b) (40%) Use Support Vector Machine to identify possible defaulters, please report training\n",
    "history, confusion matrix and accuracy. "
   ]
  }
 ],
 "metadata": {
  "kernelspec": {
   "display_name": "Python 3",
   "language": "python",
   "name": "python3"
  },
  "language_info": {
   "codemirror_mode": {
    "name": "ipython",
    "version": 3
   },
   "file_extension": ".py",
   "mimetype": "text/x-python",
   "name": "python",
   "nbconvert_exporter": "python",
   "pygments_lexer": "ipython3",
   "version": "3.8.5"
  }
 },
 "nbformat": 4,
 "nbformat_minor": 4
}
