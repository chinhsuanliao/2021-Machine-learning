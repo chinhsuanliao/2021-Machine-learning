{
 "cells": [
  {
   "cell_type": "markdown",
   "metadata": {},
   "source": [
    "(20%) Name your Jupyter notebook dna_seq and Python script dna_seq.py. A DNA sequence\n",
    "contains four base letters A, C, G, T. Genomes of different species vary with respect to the\n",
    "proportion of Gs and Cs in their DNA as opposed to Ts and As.\n",
    "Write a function gc_content that returns the GC content of a given DNA sequence represented\n",
    "as a string. Use the following simple script and sample outputs to test your function:"
   ]
  },
  {
   "cell_type": "code",
   "execution_count": 23,
   "metadata": {
    "scrolled": false
   },
   "outputs": [],
   "source": [
    "def gc_content(seq):\n",
    "    total = len(seq)\n",
    "    c = seq.count(\"C\")\n",
    "    g = seq.count(\"G\")\n",
    "    gcsum =  (c + g)/ total\n",
    "    print(gcsum)"
   ]
  },
  {
   "cell_type": "code",
   "execution_count": 25,
   "metadata": {},
   "outputs": [
    {
     "name": "stdout",
     "output_type": "stream",
     "text": [
      "0.5\n"
     ]
    }
   ],
   "source": [
    "seq50 = \"GGAACCTT\"\n",
    "gc_content(seq50)"
   ]
  },
  {
   "cell_type": "markdown",
   "metadata": {},
   "source": [
    "Bank of LAiMM wants to predict who are possible defaulters for the consumer loans product.\n",
    "They have data about historic customer behavior based on what they have observed. Hence when\n",
    "they acquire new customers, they want to predict who is riskier and who is not. You are required\n",
    "to use the training dataset to identify patterns that predict “potential” defaulters. Name your\n",
    "Jupyter notebook SVM and report SVM_report.docx."
   ]
  },
  {
   "cell_type": "markdown",
   "metadata": {},
   "source": [
    "(a) (20%) Plot the statics of training dataset. You may need to process training data before feeding\n",
    "them into model.\n",
    "This figure is an example, please plot the statistics of training data that are fed into the model."
   ]
  },
  {
   "cell_type": "code",
   "execution_count": null,
   "metadata": {},
   "outputs": [],
   "source": []
  },
  {
   "cell_type": "markdown",
   "metadata": {},
   "source": [
    "(b) (40%) Use Support Vector Machine to identify possible defaulters, please report training\n",
    "history, confusion matrix and accuracy. "
   ]
  }
 ],
 "metadata": {
  "kernelspec": {
   "display_name": "Python 3",
   "language": "python",
   "name": "python3"
  },
  "language_info": {
   "codemirror_mode": {
    "name": "ipython",
    "version": 3
   },
   "file_extension": ".py",
   "mimetype": "text/x-python",
   "name": "python",
   "nbconvert_exporter": "python",
   "pygments_lexer": "ipython3",
   "version": "3.8.5"
  }
 },
 "nbformat": 4,
 "nbformat_minor": 4
}
