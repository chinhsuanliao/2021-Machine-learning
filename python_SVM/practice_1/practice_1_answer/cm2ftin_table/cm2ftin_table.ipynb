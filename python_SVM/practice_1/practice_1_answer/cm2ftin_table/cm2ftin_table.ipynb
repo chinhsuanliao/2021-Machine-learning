{
 "cells": [
  {
   "cell_type": "markdown",
   "metadata": {},
   "source": [
    "1. (20%) Name your Jupyter notebook cm2ftin_table and Python script cm2ftin _table.py.\n",
    "Write a Python program that prints out a table with centimeter 145, 150, 155, …, 210 in the first\n",
    "column and the corresponding feet and inches in the second column. Below is a sample output:\n",
    "cm ft in\n",
    "145, 4.0, 9.086614114999996\n",
    "150, 4.0, 11.055118049999997\n",
    "155, 5.0, 1.0236219849999983\n",
    "160, 5.0, 2.9921259199999994\n",
    "165, 5.0, 4.960629854999993\n",
    "170, 5.0, 6.9291337899999945\n",
    "175, 5.0, 8.897637724999996\n",
    "180, 5.0, 10.866141659999997\n",
    "185, 6.0, 0.8346455949999978\n",
    "190, 6.0, 2.803149529999999\n",
    "195, 6.0, 4.771653465\n",
    "200, 6.0, 6.740157400000001\n",
    "205, 6.0, 8.708661335000002\n",
    "210, 6.0, 10.677165270000003"
   ]
  },
  {
   "cell_type": "code",
   "execution_count": 49,
   "metadata": {},
   "outputs": [
    {
     "name": "stdout",
     "output_type": "stream",
     "text": [
      "cm   ft   in \n",
      "145, 4.0, 57.0865\n",
      "150, 4.0, 59.055\n",
      "155, 5.0, 61.0235\n",
      "160, 5.0, 62.992\n",
      "165, 5.0, 64.9605\n",
      "170, 5.0, 66.929\n",
      "175, 5.0, 68.8975\n",
      "180, 5.0, 70.866\n",
      "185, 6.0, 72.8345\n",
      "190, 6.0, 74.803\n",
      "195, 6.0, 76.7715\n",
      "200, 6.0, 78.74\n",
      "205, 6.0, 80.7085\n",
      "210, 6.0, 82.67699999999999\n"
     ]
    }
   ],
   "source": [
    "import math\n",
    "print (\"cm   ft   in \")\n",
    " \n",
    "cm = 0 \n",
    "ft = 0\n",
    "inch = 0\n",
    "\n",
    "for i in range(0, 14):\n",
    "        cm = 145 + i*5 \n",
    "        ft = cm * 0.032808399\n",
    "        ft = float(math.floor(ft))\n",
    "        inch = cm * 0.3937\n",
    "        cm = str(cm) + \",\"\n",
    "        ft = str(ft) + \",\"\n",
    "\n",
    "        print (cm,ft,inch)"
   ]
  },
  {
   "cell_type": "markdown",
   "metadata": {},
   "source": [
    "(20%) Name your Jupyter notebook sin_approx and Python script sin_approx.py. Using a\n",
    "while loop to implement an approximation of sine function with polynomial:\n",
    "sin(𝑥) ≈ 𝑥 − 𝑥**3/3! + 𝑥**5/5!−𝑥**7/7!+ ⋯\n",
    "Compute the right-hand side for powers up to 𝑁 = 25. Below is a sample output:\n",
    "sin(1.6) approximation is 0.9995736030415051"
   ]
  },
  {
   "cell_type": "code",
   "execution_count": null,
   "metadata": {},
   "outputs": [],
   "source": []
  },
  {
   "cell_type": "markdown",
   "metadata": {},
   "source": [
    "(20%) Name your Jupyter notebook dna_seq and Python script dna_seq.py. A DNA sequence\n",
    "contains four base letters A, C, G, T. Genomes of different species vary with respect to the\n",
    "proportion of Gs and Cs in their DNA as opposed to Ts and As.\n",
    "Write a function gc_content that returns the GC content of a given DNA sequence represented\n",
    "as a string. Use the following simple script and sample outputs to test your function:"
   ]
  },
  {
   "cell_type": "code",
   "execution_count": null,
   "metadata": {},
   "outputs": [],
   "source": []
  },
  {
   "cell_type": "markdown",
   "metadata": {},
   "source": [
    "Bank of LAiMM wants to predict who are possible defaulters for the consumer loans product.\n",
    "They have data about historic customer behavior based on what they have observed. Hence when\n",
    "they acquire new customers, they want to predict who is riskier and who is not. You are required\n",
    "to use the training dataset to identify patterns that predict “potential” defaulters. Name your\n",
    "Jupyter notebook SVM and report SVM_report.docx."
   ]
  },
  {
   "cell_type": "markdown",
   "metadata": {},
   "source": [
    "(a) (20%) Plot the statics of training dataset. You may need to process training data before feeding\n",
    "them into model.\n",
    "This figure is an example, please plot the statistics of training data that are fed into the model."
   ]
  },
  {
   "cell_type": "code",
   "execution_count": null,
   "metadata": {},
   "outputs": [],
   "source": []
  },
  {
   "cell_type": "markdown",
   "metadata": {},
   "source": [
    "(b) (40%) Use Support Vector Machine to identify possible defaulters, please report training\n",
    "history, confusion matrix and accuracy. "
   ]
  }
 ],
 "metadata": {
  "kernelspec": {
   "display_name": "Python 3",
   "language": "python",
   "name": "python3"
  },
  "language_info": {
   "codemirror_mode": {
    "name": "ipython",
    "version": 3
   },
   "file_extension": ".py",
   "mimetype": "text/x-python",
   "name": "python",
   "nbconvert_exporter": "python",
   "pygments_lexer": "ipython3",
   "version": "3.8.5"
  }
 },
 "nbformat": 4,
 "nbformat_minor": 4
}
