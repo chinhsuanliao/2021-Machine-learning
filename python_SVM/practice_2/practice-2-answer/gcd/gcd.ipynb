{
 "cells": [
  {
   "cell_type": "markdown",
   "metadata": {},
   "source": [
    "(20%) Name your Jupyter notebook gcd.ipynb and Python script my_gcd.py. Write a Python\n",
    "program that finding a greatest common divisor by using Euclid’s algorithm. Euclid’s Algorithm\n",
    "states that the greatest common divisor of two integers 𝑚 and 𝑛 is 𝑛 if 𝑛 divides 𝑚 evenly.\n",
    "However, if 𝑛 does not divide 𝑚 evenly, then the answer is the greatest common divisor of 𝑛 and\n",
    "the remainder of 𝑚 divided by 𝑛.\n",
    "The interface of gcd function is:\n",
    "Def gcd(m: int,n: int)->int:\n",
    "\"\"\" function of finding a greatest common divisor \"\"\""
   ]
  },
  {
   "cell_type": "code",
   "execution_count": 3,
   "metadata": {},
   "outputs": [
    {
     "ename": "ImportError",
     "evalue": "cannot import name 'gcd' from 'my_gcd' (C:\\Users\\User\\Desktop\\Lab2_廖沁旋_N96104080\\my_gcd.py)",
     "output_type": "error",
     "traceback": [
      "\u001b[1;31m---------------------------------------------------------------------------\u001b[0m",
      "\u001b[1;31mImportError\u001b[0m                               Traceback (most recent call last)",
      "\u001b[1;32m<ipython-input-3-660bd41b75ea>\u001b[0m in \u001b[0;36m<module>\u001b[1;34m\u001b[0m\n\u001b[1;32m----> 1\u001b[1;33m \u001b[1;32mfrom\u001b[0m \u001b[0mmy_gcd\u001b[0m \u001b[1;32mimport\u001b[0m \u001b[0mgcd\u001b[0m\u001b[1;33m\u001b[0m\u001b[1;33m\u001b[0m\u001b[0m\n\u001b[0m",
      "\u001b[1;31mImportError\u001b[0m: cannot import name 'gcd' from 'my_gcd' (C:\\Users\\User\\Desktop\\Lab2_廖沁旋_N96104080\\my_gcd.py)"
     ]
    }
   ],
   "source": [
    "from my_gcd import gcd"
   ]
  },
  {
   "cell_type": "code",
   "execution_count": 7,
   "metadata": {
    "scrolled": true
   },
   "outputs": [
    {
     "ename": "ImportError",
     "evalue": "cannot import name 'gcd' from 'my_gcd' (C:\\Users\\User\\Desktop\\Lab2_廖沁旋_N96104080\\my_gcd.py)",
     "output_type": "error",
     "traceback": [
      "\u001b[1;31m---------------------------------------------------------------------------\u001b[0m",
      "\u001b[1;31mImportError\u001b[0m                               Traceback (most recent call last)",
      "\u001b[1;32m<ipython-input-7-660bd41b75ea>\u001b[0m in \u001b[0;36m<module>\u001b[1;34m\u001b[0m\n\u001b[1;32m----> 1\u001b[1;33m \u001b[1;32mfrom\u001b[0m \u001b[0mmy_gcd\u001b[0m \u001b[1;32mimport\u001b[0m \u001b[0mgcd\u001b[0m\u001b[1;33m\u001b[0m\u001b[1;33m\u001b[0m\u001b[0m\n\u001b[0m",
      "\u001b[1;31mImportError\u001b[0m: cannot import name 'gcd' from 'my_gcd' (C:\\Users\\User\\Desktop\\Lab2_廖沁旋_N96104080\\my_gcd.py)"
     ]
    }
   ],
   "source": [
    "print(gcd(20,10))"
   ]
  }
 ],
 "metadata": {
  "kernelspec": {
   "display_name": "Python 3",
   "language": "python",
   "name": "python3"
  }
 },
 "nbformat": 4,
 "nbformat_minor": 4
}
