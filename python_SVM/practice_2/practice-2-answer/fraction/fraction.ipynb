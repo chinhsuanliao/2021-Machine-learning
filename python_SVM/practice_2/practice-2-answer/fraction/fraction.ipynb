{
 "cells": [
  {
   "cell_type": "markdown",
   "metadata": {},
   "source": [
    "2. (50%) Name your Jupyter notebook fraction and Python script fraction.py.\n",
    "A Fraction is user defined datatype to present fraction numbers. The operations for the Fraction type will allow\n",
    "a Fraction data object to behave like any other numeric value. We need to be able to add, subtract,\n",
    "multiply, and divide fractions. We also want to be able to show fractions using the standard “slash”\n",
    "form, for example 3/5. In addition, all fraction methods should return results in their lowest terms\n",
    "so that no matter what computation is performed, we always end up with the most common form."
   ]
  },
  {
   "cell_type": "markdown",
   "metadata": {},
   "source": [
    "The interface for Fraction should look like:\n",
    "from my_gcd import gcd\n",
    "class Fraction(object):\n",
    " \"\"\"\n",
    " User-defined ojbect to represent numeric fractions\n",
    " The top value, known as the numerator, can be any integer.\n",
    " The bottom value, called the denominator, can be any integer\n",
    "greater than 0\n",
    " \"\"\"\n",
    "Below is the running example:"
   ]
  },
  {
   "cell_type": "code",
   "execution_count": 3,
   "metadata": {},
   "outputs": [],
   "source": [
    "from fraction import Fraction"
   ]
  },
  {
   "cell_type": "code",
   "execution_count": 4,
   "metadata": {},
   "outputs": [
    {
     "name": "stdout",
     "output_type": "stream",
     "text": [
      "7/6\n",
      "True\n"
     ]
    }
   ],
   "source": [
    "x = Fraction(1,2)\n",
    "y = Fraction(2,3)\n",
    "print(x+y)\n",
    "print(x==y)"
   ]
  },
  {
   "cell_type": "code",
   "execution_count": 5,
   "metadata": {},
   "outputs": [
    {
     "name": "stdout",
     "output_type": "stream",
     "text": [
      "True\n"
     ]
    }
   ],
   "source": [
    "print(x!=y)"
   ]
  },
  {
   "cell_type": "code",
   "execution_count": 6,
   "metadata": {},
   "outputs": [
    {
     "name": "stdout",
     "output_type": "stream",
     "text": [
      "-1/6\n"
     ]
    }
   ],
   "source": [
    "print(x-y)"
   ]
  },
  {
   "cell_type": "code",
   "execution_count": 7,
   "metadata": {},
   "outputs": [
    {
     "name": "stdout",
     "output_type": "stream",
     "text": [
      "7/6\n"
     ]
    }
   ],
   "source": [
    "print(x+y)"
   ]
  },
  {
   "cell_type": "code",
   "execution_count": null,
   "metadata": {},
   "outputs": [],
   "source": []
  }
 ],
 "metadata": {
  "kernelspec": {
   "display_name": "Python 3",
   "language": "python",
   "name": "python3"
  },
  "language_info": {
   "codemirror_mode": {
    "name": "ipython",
    "version": 3
   },
   "file_extension": ".py",
   "mimetype": "text/x-python",
   "name": "python",
   "nbconvert_exporter": "python",
   "pygments_lexer": "ipython3",
   "version": "3.8.5"
  }
 },
 "nbformat": 4,
 "nbformat_minor": 4
}
