{
 "cells": [
  {
   "cell_type": "markdown",
   "metadata": {},
   "source": [
    "(50%) Bank of LAiMM wants to predict who are possible defaulters for the consumer loans\n",
    "product. They have data about historic customer behavior based on what they have observed.\n",
    "Hence when they acquire new customers, they want to predict who is riskier and who is not. You\n",
    "are required to use the training dataset to identify patterns that predict “potential” defaulters. Use\n",
    "Support Vector Machine to identify possible defaulters. There are some hyperparameters that can\n",
    "be adjusted in Support Vector Machine. These hyperparameters affect the results of training."
   ]
  },
  {
   "cell_type": "code",
   "execution_count": 1,
   "metadata": {},
   "outputs": [],
   "source": [
    "#Impoort library\n",
    "import matplotlib.pyplot as plt\n",
    "import pandas as pd"
   ]
  },
  {
   "cell_type": "code",
   "execution_count": 2,
   "metadata": {},
   "outputs": [],
   "source": [
    "from sklearn.svm import SVC\n",
    "from sklearn.metrics import confusion_matrix\n",
    "from sklearn.metrics import accuracy_score #預測準確率\n",
    "from sklearn.model_selection import GridSearchCV\n",
    "from sklearn.model_selection import RandomizedSearchCV\n",
    "from sklearn.model_selection import train_test_split #資料切割的模組\n",
    "from sklearn.metrics import confusion_matrix\n",
    "from sklearn.metrics import accuracy_score"
   ]
  },
  {
   "cell_type": "code",
   "execution_count": 3,
   "metadata": {},
   "outputs": [
    {
     "data": {
      "text/html": [
       "<div>\n",
       "<style scoped>\n",
       "    .dataframe tbody tr th:only-of-type {\n",
       "        vertical-align: middle;\n",
       "    }\n",
       "\n",
       "    .dataframe tbody tr th {\n",
       "        vertical-align: top;\n",
       "    }\n",
       "\n",
       "    .dataframe thead th {\n",
       "        text-align: right;\n",
       "    }\n",
       "</style>\n",
       "<table border=\"1\" class=\"dataframe\">\n",
       "  <thead>\n",
       "    <tr style=\"text-align: right;\">\n",
       "      <th></th>\n",
       "      <th>Id</th>\n",
       "      <th>Income</th>\n",
       "      <th>Age</th>\n",
       "      <th>Experience</th>\n",
       "      <th>Married/Single</th>\n",
       "      <th>CURRENT_JOB_YRS</th>\n",
       "      <th>Risk_Flag</th>\n",
       "    </tr>\n",
       "  </thead>\n",
       "  <tbody>\n",
       "    <tr>\n",
       "      <th>0</th>\n",
       "      <td>81157</td>\n",
       "      <td>8451099</td>\n",
       "      <td>70</td>\n",
       "      <td>4</td>\n",
       "      <td>single</td>\n",
       "      <td>4</td>\n",
       "      <td>1</td>\n",
       "    </tr>\n",
       "    <tr>\n",
       "      <th>1</th>\n",
       "      <td>59951</td>\n",
       "      <td>893955</td>\n",
       "      <td>28</td>\n",
       "      <td>8</td>\n",
       "      <td>married</td>\n",
       "      <td>3</td>\n",
       "      <td>0</td>\n",
       "    </tr>\n",
       "    <tr>\n",
       "      <th>2</th>\n",
       "      <td>246987</td>\n",
       "      <td>7023996</td>\n",
       "      <td>34</td>\n",
       "      <td>15</td>\n",
       "      <td>single</td>\n",
       "      <td>5</td>\n",
       "      <td>1</td>\n",
       "    </tr>\n",
       "    <tr>\n",
       "      <th>3</th>\n",
       "      <td>231215</td>\n",
       "      <td>7480946</td>\n",
       "      <td>44</td>\n",
       "      <td>10</td>\n",
       "      <td>single</td>\n",
       "      <td>10</td>\n",
       "      <td>1</td>\n",
       "    </tr>\n",
       "    <tr>\n",
       "      <th>4</th>\n",
       "      <td>88820</td>\n",
       "      <td>291391</td>\n",
       "      <td>33</td>\n",
       "      <td>8</td>\n",
       "      <td>single</td>\n",
       "      <td>6</td>\n",
       "      <td>1</td>\n",
       "    </tr>\n",
       "    <tr>\n",
       "      <th>...</th>\n",
       "      <td>...</td>\n",
       "      <td>...</td>\n",
       "      <td>...</td>\n",
       "      <td>...</td>\n",
       "      <td>...</td>\n",
       "      <td>...</td>\n",
       "      <td>...</td>\n",
       "    </tr>\n",
       "    <tr>\n",
       "      <th>12995</th>\n",
       "      <td>196000</td>\n",
       "      <td>6036428</td>\n",
       "      <td>34</td>\n",
       "      <td>7</td>\n",
       "      <td>single</td>\n",
       "      <td>6</td>\n",
       "      <td>1</td>\n",
       "    </tr>\n",
       "    <tr>\n",
       "      <th>12996</th>\n",
       "      <td>95006</td>\n",
       "      <td>7757947</td>\n",
       "      <td>62</td>\n",
       "      <td>5</td>\n",
       "      <td>single</td>\n",
       "      <td>4</td>\n",
       "      <td>0</td>\n",
       "    </tr>\n",
       "    <tr>\n",
       "      <th>12997</th>\n",
       "      <td>93040</td>\n",
       "      <td>6894008</td>\n",
       "      <td>66</td>\n",
       "      <td>3</td>\n",
       "      <td>married</td>\n",
       "      <td>3</td>\n",
       "      <td>1</td>\n",
       "    </tr>\n",
       "    <tr>\n",
       "      <th>12998</th>\n",
       "      <td>151805</td>\n",
       "      <td>6389669</td>\n",
       "      <td>33</td>\n",
       "      <td>13</td>\n",
       "      <td>married</td>\n",
       "      <td>11</td>\n",
       "      <td>0</td>\n",
       "    </tr>\n",
       "    <tr>\n",
       "      <th>12999</th>\n",
       "      <td>225084</td>\n",
       "      <td>6674743</td>\n",
       "      <td>23</td>\n",
       "      <td>9</td>\n",
       "      <td>single</td>\n",
       "      <td>8</td>\n",
       "      <td>0</td>\n",
       "    </tr>\n",
       "  </tbody>\n",
       "</table>\n",
       "<p>13000 rows × 7 columns</p>\n",
       "</div>"
      ],
      "text/plain": [
       "           Id   Income  Age  Experience Married/Single  CURRENT_JOB_YRS  \\\n",
       "0       81157  8451099   70           4         single                4   \n",
       "1       59951   893955   28           8        married                3   \n",
       "2      246987  7023996   34          15         single                5   \n",
       "3      231215  7480946   44          10         single               10   \n",
       "4       88820   291391   33           8         single                6   \n",
       "...       ...      ...  ...         ...            ...              ...   \n",
       "12995  196000  6036428   34           7         single                6   \n",
       "12996   95006  7757947   62           5         single                4   \n",
       "12997   93040  6894008   66           3        married                3   \n",
       "12998  151805  6389669   33          13        married               11   \n",
       "12999  225084  6674743   23           9         single                8   \n",
       "\n",
       "       Risk_Flag  \n",
       "0              1  \n",
       "1              0  \n",
       "2              1  \n",
       "3              1  \n",
       "4              1  \n",
       "...          ...  \n",
       "12995          1  \n",
       "12996          0  \n",
       "12997          1  \n",
       "12998          0  \n",
       "12999          0  \n",
       "\n",
       "[13000 rows x 7 columns]"
      ]
     },
     "execution_count": 3,
     "metadata": {},
     "output_type": "execute_result"
    }
   ],
   "source": [
    "#讓pandas讀取csv檔並畫出表格,確認檔按是否被讀\n",
    "dataset_df = pd.read_csv('training.csv') \n",
    "cols = ['Income','Age','Experience','Married/Single','CURRENT_JOB_YRS','Risk_Flag'] #選取需要的資料\n",
    "dataset_df"
   ]
  },
  {
   "cell_type": "code",
   "execution_count": 4,
   "metadata": {},
   "outputs": [
    {
     "data": {
      "text/html": [
       "<div>\n",
       "<style scoped>\n",
       "    .dataframe tbody tr th:only-of-type {\n",
       "        vertical-align: middle;\n",
       "    }\n",
       "\n",
       "    .dataframe tbody tr th {\n",
       "        vertical-align: top;\n",
       "    }\n",
       "\n",
       "    .dataframe thead th {\n",
       "        text-align: right;\n",
       "    }\n",
       "</style>\n",
       "<table border=\"1\" class=\"dataframe\">\n",
       "  <thead>\n",
       "    <tr style=\"text-align: right;\">\n",
       "      <th></th>\n",
       "      <th>Id</th>\n",
       "      <th>Income</th>\n",
       "      <th>Age</th>\n",
       "      <th>Experience</th>\n",
       "      <th>Married/Single</th>\n",
       "      <th>CURRENT_JOB_YRS</th>\n",
       "      <th>Risk_Flag</th>\n",
       "    </tr>\n",
       "  </thead>\n",
       "  <tbody>\n",
       "    <tr>\n",
       "      <th>0</th>\n",
       "      <td>81157</td>\n",
       "      <td>8451099</td>\n",
       "      <td>70</td>\n",
       "      <td>4</td>\n",
       "      <td>0</td>\n",
       "      <td>4</td>\n",
       "      <td>1</td>\n",
       "    </tr>\n",
       "    <tr>\n",
       "      <th>1</th>\n",
       "      <td>59951</td>\n",
       "      <td>893955</td>\n",
       "      <td>28</td>\n",
       "      <td>8</td>\n",
       "      <td>1</td>\n",
       "      <td>3</td>\n",
       "      <td>0</td>\n",
       "    </tr>\n",
       "    <tr>\n",
       "      <th>2</th>\n",
       "      <td>246987</td>\n",
       "      <td>7023996</td>\n",
       "      <td>34</td>\n",
       "      <td>15</td>\n",
       "      <td>0</td>\n",
       "      <td>5</td>\n",
       "      <td>1</td>\n",
       "    </tr>\n",
       "    <tr>\n",
       "      <th>3</th>\n",
       "      <td>231215</td>\n",
       "      <td>7480946</td>\n",
       "      <td>44</td>\n",
       "      <td>10</td>\n",
       "      <td>0</td>\n",
       "      <td>10</td>\n",
       "      <td>1</td>\n",
       "    </tr>\n",
       "    <tr>\n",
       "      <th>4</th>\n",
       "      <td>88820</td>\n",
       "      <td>291391</td>\n",
       "      <td>33</td>\n",
       "      <td>8</td>\n",
       "      <td>0</td>\n",
       "      <td>6</td>\n",
       "      <td>1</td>\n",
       "    </tr>\n",
       "    <tr>\n",
       "      <th>...</th>\n",
       "      <td>...</td>\n",
       "      <td>...</td>\n",
       "      <td>...</td>\n",
       "      <td>...</td>\n",
       "      <td>...</td>\n",
       "      <td>...</td>\n",
       "      <td>...</td>\n",
       "    </tr>\n",
       "    <tr>\n",
       "      <th>12995</th>\n",
       "      <td>196000</td>\n",
       "      <td>6036428</td>\n",
       "      <td>34</td>\n",
       "      <td>7</td>\n",
       "      <td>0</td>\n",
       "      <td>6</td>\n",
       "      <td>1</td>\n",
       "    </tr>\n",
       "    <tr>\n",
       "      <th>12996</th>\n",
       "      <td>95006</td>\n",
       "      <td>7757947</td>\n",
       "      <td>62</td>\n",
       "      <td>5</td>\n",
       "      <td>0</td>\n",
       "      <td>4</td>\n",
       "      <td>0</td>\n",
       "    </tr>\n",
       "    <tr>\n",
       "      <th>12997</th>\n",
       "      <td>93040</td>\n",
       "      <td>6894008</td>\n",
       "      <td>66</td>\n",
       "      <td>3</td>\n",
       "      <td>1</td>\n",
       "      <td>3</td>\n",
       "      <td>1</td>\n",
       "    </tr>\n",
       "    <tr>\n",
       "      <th>12998</th>\n",
       "      <td>151805</td>\n",
       "      <td>6389669</td>\n",
       "      <td>33</td>\n",
       "      <td>13</td>\n",
       "      <td>1</td>\n",
       "      <td>11</td>\n",
       "      <td>0</td>\n",
       "    </tr>\n",
       "    <tr>\n",
       "      <th>12999</th>\n",
       "      <td>225084</td>\n",
       "      <td>6674743</td>\n",
       "      <td>23</td>\n",
       "      <td>9</td>\n",
       "      <td>0</td>\n",
       "      <td>8</td>\n",
       "      <td>0</td>\n",
       "    </tr>\n",
       "  </tbody>\n",
       "</table>\n",
       "<p>13000 rows × 7 columns</p>\n",
       "</div>"
      ],
      "text/plain": [
       "           Id   Income  Age  Experience  Married/Single  CURRENT_JOB_YRS  \\\n",
       "0       81157  8451099   70           4               0                4   \n",
       "1       59951   893955   28           8               1                3   \n",
       "2      246987  7023996   34          15               0                5   \n",
       "3      231215  7480946   44          10               0               10   \n",
       "4       88820   291391   33           8               0                6   \n",
       "...       ...      ...  ...         ...             ...              ...   \n",
       "12995  196000  6036428   34           7               0                6   \n",
       "12996   95006  7757947   62           5               0                4   \n",
       "12997   93040  6894008   66           3               1                3   \n",
       "12998  151805  6389669   33          13               1               11   \n",
       "12999  225084  6674743   23           9               0                8   \n",
       "\n",
       "       Risk_Flag  \n",
       "0              1  \n",
       "1              0  \n",
       "2              1  \n",
       "3              1  \n",
       "4              1  \n",
       "...          ...  \n",
       "12995          1  \n",
       "12996          0  \n",
       "12997          1  \n",
       "12998          0  \n",
       "12999          0  \n",
       "\n",
       "[13000 rows x 7 columns]"
      ]
     },
     "execution_count": 4,
     "metadata": {},
     "output_type": "execute_result"
    }
   ],
   "source": [
    "# 將 single 轉成 0, married 轉成 1\n",
    "dataset_df[\"Married/Single\"].replace(\"single\", 0, inplace=True)\n",
    "dataset_df[\"Married/Single\"].replace(\"married\", 1, inplace=True)\n",
    "dataset_df"
   ]
  },
  {
   "cell_type": "code",
   "execution_count": 5,
   "metadata": {},
   "outputs": [],
   "source": [
    "#將資料進行切割，分成要進行訓練的資料及\n",
    "x = dataset_df.drop(['Id','Risk_Flag'], axis=1) #drop函數要記得給axis參數，因為它的預設參數是0，但我們這邊是要拿掉欄位，所以要記得給axis = 1\n",
    "y = dataset_df['Risk_Flag']\n",
    "\n",
    "\n",
    "#將資料再各分一半\n",
    "#random_state=0或沒填時，得到的隨機陣列每次都會不一樣。\n",
    "#test_size：樣本佔比，如果是整數的話就是樣本的數量，要在0~1之間\n",
    "x_train, x_test, y_train, y_test = train_test_split(x, y, random_state=0, test_size=0.27)"
   ]
  },
  {
   "cell_type": "markdown",
   "metadata": {},
   "source": [
    "# GridSearchCV"
   ]
  },
  {
   "cell_type": "markdown",
   "metadata": {},
   "source": [
    "(a) Use GridSearchCV to search for best hyperparameters and select the parameters and set range\n",
    "of values to be searched. Please report training history, parameters and range of values, confusion\n",
    "matrix and accuracy. Please note that the number of possible combinations of parameters affects\n",
    "the search time, the more combinations will consume more time, especially when using\n",
    "GridSearchCV."
   ]
  },
  {
   "cell_type": "markdown",
   "metadata": {},
   "source": [
    "GridSearchCV 函數會自動作Cross Validation，並且統計準確率的平均數/標準差，幫我們找出最佳參數組合"
   ]
  },
  {
   "cell_type": "code",
   "execution_count": 6,
   "metadata": {},
   "outputs": [
    {
     "name": "stdout",
     "output_type": "stream",
     "text": [
      "0.7463378509729777\n",
      "SVC(C=1, gamma=0.07)\n",
      "{'C': 1, 'gamma': 0.07, 'kernel': 'rbf'}\n"
     ]
    }
   ],
   "source": [
    "#調整參數C, gamma\n",
    "parameters = {'kernel': ['rbf'], 'C': [1, 27, 57], 'gamma': [0.07,  0.527, 1],}\n",
    "#建立SVC模型，試著找出最佳參數\n",
    "grid = GridSearchCV(SVC(), parameters, cv=2)\n",
    "#將訓練資料放入GridSearchCV之中\n",
    "grid_search = grid.fit(x_train, y_train)\n",
    "\n",
    "#對結果打分\n",
    "print(grid_search.best_score_)\n",
    "print(grid_search.best_estimator_)\n",
    "#印出最佳參數\n",
    "print(grid.best_params_)"
   ]
  },
  {
   "cell_type": "code",
   "execution_count": 7,
   "metadata": {},
   "outputs": [
    {
     "data": {
      "text/plain": [
       "0.8023355169467388"
      ]
     },
     "execution_count": 7,
     "metadata": {},
     "output_type": "execute_result"
    }
   ],
   "source": [
    "# Predict the labels for `x_test`\n",
    "y_model= grid.predict(x_test)\n",
    "accuracy_score(y_test, y_model) "
   ]
  },
  {
   "cell_type": "code",
   "execution_count": 8,
   "metadata": {},
   "outputs": [
    {
     "data": {
      "text/plain": [
       "Text(52.5, 0.5, 'predicted label')"
      ]
     },
     "execution_count": 8,
     "metadata": {},
     "output_type": "execute_result"
    },
    {
     "data": {
      "image/png": "[encoded data removed]",
      "text/plain": [
       "<Figure size 648x432 with 2 Axes>"
      ]
     },
     "metadata": {},
     "output_type": "display_data"
    }
   ],
   "source": [
    "import seaborn as sns\n",
    "sns.set(font_scale= 1.5) #利用font_scale調整字體大小\n",
    "f,ax=plt.subplots(figsize=(9, 6))# 繪製顯示數值的熱圖, figsize可以調整圖案大小\n",
    "cf_matrix = confusion_matrix(y_test,y_model) #將test_label&prediction放入cf_matrix中\n",
    "sns.heatmap(cf_matrix, annot=True, linewidths=3,fmt='g')\n",
    "#cmap 可以選擇圖的顏色\n",
    "#annot annot为True时，可设置各个参数，包括大小，颜色，加粗，斜体字\n",
    "#linewidth可以調整各個方塊的邊框寬度\n",
    "#fmt='g'可以顯示完整數字\n",
    "ax.set_title('Confusion matrix') #設定標題名稱\n",
    "ax.set_xlabel('true label') #x軸名稱\n",
    "ax.set_ylabel('predicted label') #y軸名稱"
   ]
  },
  {
   "cell_type": "markdown",
   "metadata": {},
   "source": [
    "# RandomizedSearchCV\n"
   ]
  },
  {
   "cell_type": "markdown",
   "metadata": {},
   "source": [
    "(b) RandomizedSearchCV to search for best hyperparameters and select the parameters and set\n",
    "range of values to be searched. Please report training history, parameters and range of values,\n",
    "confusion matrix and accuracy."
   ]
  },
  {
   "cell_type": "code",
   "execution_count": 12,
   "metadata": {},
   "outputs": [
    {
     "name": "stderr",
     "output_type": "stream",
     "text": [
      "C:\\Users\\User\\anaconda3\\lib\\site-packages\\sklearn\\model_selection\\_search.py:278: UserWarning: The total space of parameters 9 is smaller than n_iter=10. Running 9 iterations. For exhaustive searches, use GridSearchCV.\n",
      "  warnings.warn(\n"
     ]
    },
    {
     "name": "stdout",
     "output_type": "stream",
     "text": [
      "0.7463378509729777\n",
      "SVC(C=1, gamma=0.52)\n",
      "{'kernel': 'rbf', 'gamma': 0.52, 'C': 1}\n"
     ]
    }
   ],
   "source": [
    "#調整參數C, gamma\n",
    "parameters = {'kernel': ['rbf'], 'C': [1, 5,10], 'gamma': [0.52,  0.7, 1],}\n",
    "#建立SVC模型，試著找出最佳參數\n",
    "Rand = RandomizedSearchCV(SVC(), parameters, cv=2)\n",
    "#將訓練資料放入GridSearchCV之中\n",
    "Rand_search = Rand.fit(x_train, y_train)\n",
    "\n",
    "#對結果打分\n",
    "print(Rand_search.best_score_)\n",
    "print(Rand_search.best_estimator_)\n",
    "#印出最佳參數\n",
    "print(Rand.best_params_)"
   ]
  },
  {
   "cell_type": "code",
   "execution_count": 13,
   "metadata": {},
   "outputs": [
    {
     "data": {
      "text/plain": [
       "0.8023355169467388"
      ]
     },
     "execution_count": 13,
     "metadata": {},
     "output_type": "execute_result"
    }
   ],
   "source": [
    "# Predict the labels for `x_test`\n",
    "y_model= Rand.predict(x_test)\n",
    "accuracy_score(y_test, y_model) "
   ]
  },
  {
   "cell_type": "code",
   "execution_count": 14,
   "metadata": {},
   "outputs": [
    {
     "data": {
      "text/plain": [
       "Text(52.5, 0.5, 'predicted label')"
      ]
     },
     "execution_count": 14,
     "metadata": {},
     "output_type": "execute_result"
    },
    {
     "data": {
      "image/png": "[encoded data removed]",
      "text/plain": [
       "<Figure size 648x432 with 2 Axes>"
      ]
     },
     "metadata": {},
     "output_type": "display_data"
    }
   ],
   "source": [
    "import seaborn as sns\n",
    "sns.set(font_scale= 1.5) #利用font_scale調整字體大小\n",
    "f,ax=plt.subplots(figsize=(9, 6))# 繪製顯示數值的熱圖, figsize可以調整圖案大小\n",
    "cf_matrix = confusion_matrix(y_test,y_model) #將test_label&prediction放入cf_matrix中\n",
    "sns.heatmap(cf_matrix, annot=True, linewidths=3,fmt='g')\n",
    "#cmap 可以選擇圖的顏色\n",
    "#annot annot为True时，可设置各个参数，包括大小，颜色，加粗，斜体字\n",
    "#linewidth可以調整各個方塊的邊框寬度\n",
    "#fmt='g'可以顯示完整數字\n",
    "ax.set_title('Confusion matrix') #設定標題名稱\n",
    "ax.set_xlabel('true label') #x軸名稱\n",
    "ax.set_ylabel('predicted label') #y軸名稱"
   ]
  },
  {
   "cell_type": "markdown",
   "metadata": {},
   "source": [
    "因為在寫功課的時候遇到很多很多的瓶頸，所以把助教跟上課影片看了很多次，還有上網搜尋相關的資料，\n",
    "為了避免自己以後忘記，所以放上自己的參考資料:\n",
    "1.https://medium.com/%E5%B1%95%E9%96%8B%E6%95%B8%E6%93%9A%E4%BA%BA%E7%94%9F/python%E6%A9%9F%E5%99%A8%E5%AD%B8%E7%BF%92%E5%85%A5%E9%96%80-%E4%BA%8C-bbc8414d4632\n",
    "2. https://iter01.com/522027.html  \n",
    "3. https://scikit-learn.org/stable/auto_examples/svm/plot_rbf_parameters.html\n",
    "官方:https://scikit-learn.org/stable/modules/svm.html?highlight=break_ties#\n",
    "4.名稱https://blog.csdn.net/u012969412/article/details/72973055"
   ]
  }
 ],
 "metadata": {
  "kernelspec": {
   "display_name": "Python 3",
   "language": "python",
   "name": "python3"
  },
  "language_info": {
   "codemirror_mode": {
    "name": "ipython",
    "version": 3
   },
   "file_extension": ".py",
   "mimetype": "text/x-python",
   "name": "python",
   "nbconvert_exporter": "python",
   "pygments_lexer": "ipython3",
   "version": "3.8.5"
  }
 },
 "nbformat": 4,
 "nbformat_minor": 4
}
